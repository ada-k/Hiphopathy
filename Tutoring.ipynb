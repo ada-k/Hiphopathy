{
 "metadata": {
  "name": "",
  "signature": "sha256:dba20fc6deb74a60a0a83346df0ef3f83110b0898cea939857dbe162e897130c"
 },
 "nbformat": 3,
 "nbformat_minor": 0,
 "worksheets": [
  {
   "cells": [
    {
     "cell_type": "code",
     "collapsed": false,
     "input": [
      "[x * x for x in range(10) if x % 2 == 0]\n"
     ],
     "language": "python",
     "metadata": {},
     "outputs": [
      {
       "metadata": {},
       "output_type": "pyout",
       "prompt_number": 1,
       "text": [
        "[0, 4, 16, 36, 64]"
       ]
      }
     ],
     "prompt_number": 1
    },
    {
     "cell_type": "code",
     "collapsed": false,
     "input": [
      "\"\"\"Utilities for Maps\"\"\"\n",
      "\n",
      "from math import sqrt\n",
      "from random import sample\n",
      "\n",
      "# Rename the built-in zip (http://docs.python.org/3/library/functions.html#zip)\n",
      "_zip = zip\n",
      "\n",
      "def zip(*sequences):\n",
      "    \"\"\"Returns a list of lists, where the i-th list contains the i-th\n",
      "    element from each of the argument sequences.\n",
      "\n",
      "    >>> zip(range(0, 3), range(3, 6))\n",
      "    [[0, 3], [1, 4], [2, 5]]\n",
      "    >>> for a, b in zip([1, 2, 3], [4, 5, 6]):\n",
      "    ...     print(a, b)\n",
      "    1 4\n",
      "    2 5\n",
      "    3 6\n",
      "    >>> for triple in zip(['a', 'b', 'c'], [1, 2, 3], ['do', 're', 'mi']):\n",
      "    ...     print(triple)\n",
      "    ['a', 1, 'do']\n",
      "    ['b', 2, 're']\n",
      "    ['c', 3, 'mi']\n",
      "    \"\"\"\n",
      "    return list(map(list, _zip(*sequences)))\n",
      "\n",
      "def distance(pos1, pos2):\n",
      "    \"\"\"Return the Euclidean distance between POS1 and POS2, which are pairs.\n",
      "\n",
      "    >>> distance([1, 2], [4, 6])\n",
      "    5.0\n",
      "    \"\"\"\n",
      "    return sqrt((pos1[0] - pos2[0]) ** 2 + (pos1[1] - pos2[1]) ** 2)\n",
      "\n",
      "def mean(lst):\n",
      "    \"\"\"Return the arithmetic mean of a sequence of numbers.\n",
      "\n",
      "    >>> mean([-1, 3])\n",
      "    1.0\n",
      "    >>> mean([0, -3, 2, -1])\n",
      "    -0.5\n",
      "    \"\"\"\n",
      "    assert len(lst) > 0, 'cannot find mean of empty sequence'\n",
      "    return sum(lst) / len(lst)\n"
     ],
     "language": "python",
     "metadata": {},
     "outputs": [],
     "prompt_number": 2
    },
    {
     "cell_type": "code",
     "collapsed": false,
     "input": [
      "zip([1, 2, 3], [4, 5, 6])"
     ],
     "language": "python",
     "metadata": {},
     "outputs": [
      {
       "metadata": {},
       "output_type": "pyout",
       "prompt_number": 3,
       "text": [
        "[[1, 4], [2, 5], [3, 6]]"
       ]
      }
     ],
     "prompt_number": 3
    },
    {
     "cell_type": "code",
     "collapsed": false,
     "input": [
      "\"\"\"Data Abstractions\"\"\"\n",
      "\n",
      "# Reviews\n",
      "\n",
      "def make_review(restaurant_name, rating):\n",
      "    \"\"\"Return a review.\"\"\"\n",
      "    return [restaurant_name, rating]\n",
      "\n",
      "def review_restaurant_name(review):\n",
      "    \"\"\"Return the reviewed restaurant's name (string).\"\"\"\n",
      "    return review[0]\n",
      "\n",
      "def review_rating(review):\n",
      "    \"\"\"Return the number of stars given (1 to 5).\"\"\"\n",
      "    return review[1]\n",
      "\n",
      "# Users\n",
      "\n",
      "def make_user(name, reviews):\n",
      "    \"\"\"Return a user.\"\"\"\n",
      "    return [name, {review_restaurant_name(r): r for r in reviews}]\n",
      "\n",
      "def user_name(user):\n",
      "    \"\"\"Return the USER's name (string).\"\"\"\n",
      "    return user[0]\n",
      "\n",
      "def user_reviews(user):\n",
      "    \"\"\"Return a dictionary from restaurant names to reviews by the USER.\"\"\"\n",
      "    return user[1]\n",
      "\n",
      "### === +++ USER ABSTRACTION BARRIER +++ === ###\n",
      "\n",
      "def user_reviewed_restaurants(user, restaurants):\n",
      "    \"\"\"Return the subset of restaurants reviewed by USER.\n",
      "\n",
      "    Arguments:\n",
      "    user -- a user\n",
      "    restaurants -- a dictionary from restaurant names to restaurants\n",
      "    \"\"\"\n",
      "    names = user_reviews(user).keys()\n",
      "    return {name: restaurants[name] for name in names if name in restaurants}\n",
      "\n",
      "def user_rating(user, restaurant_name):\n",
      "    \"\"\"Return the rating given for RESTAURANT_NAME by USER.\"\"\"\n",
      "    return review_rating(user_reviews(user)[restaurant_name])\n",
      "\n",
      "# Restaurants\n",
      "\n",
      "def make_restaurant(name, location, categories, price, reviews):\n",
      "    \"\"\"Return a restaurant, implemented as a dictionary.\"\"\"\n",
      "    # You may change this starter implementation however you wish, including\n",
      "    # adding more items to the dictionary below.\n",
      "    \"*** YOUR CODE HERE ***\"\n",
      "    return {'name': name,\n",
      "            'location': location,\n",
      "            'categories': categories,\n",
      "            'price': price,\n",
      "            }\n",
      "\n",
      "def restaurant_name(restaurant):\n",
      "    return restaurant['name']\n",
      "\n",
      "def restaurant_location(restaurant):\n",
      "    return restaurant['location']\n",
      "\n",
      "def restaurant_categories(restaurant):\n",
      "    return restaurant['categories']\n",
      "\n",
      "def restaurant_price(restaurant):\n",
      "    return restaurant['price']\n",
      "\n",
      "def restaurant_ratings(restaurant):\n",
      "    \"\"\"Return a list of ratings (numbers from 1 to 5).\"\"\"\n",
      "    \"*** YOUR CODE HERE ***\"\n",
      "\n",
      "### === +++ RESTAURANT ABSTRACTION BARRIER +++ === ###\n",
      "\n",
      "def restaurant_num_ratings(restaurant):\n",
      "    \"\"\"Return the number of ratings for RESTAURANT.\"\"\"\n",
      "    \"*** YOUR CODE HERE ***\"\n",
      "\n",
      "def restaurant_mean_rating(restaurant):\n",
      "    \"\"\"Return the average rating for RESTAURANT.\"\"\"\n",
      "    \"*** YOUR CODE HERE ***\"\n",
      "\n"
     ],
     "language": "python",
     "metadata": {},
     "outputs": []
    },
    {
     "cell_type": "code",
     "collapsed": false,
     "input": [
      "[x * x for x in range(10) if x % 2 == 0]"
     ],
     "language": "python",
     "metadata": {},
     "outputs": [
      {
       "metadata": {},
       "output_type": "pyout",
       "prompt_number": 185,
       "text": [
        "[0, 4, 16, 36, 64]"
       ]
      }
     ],
     "prompt_number": 185
    },
    {
     "cell_type": "code",
     "collapsed": false,
     "input": [
      "square = lambda x: x * x\n",
      "is_odd = lambda x: x % 2 == 1"
     ],
     "language": "python",
     "metadata": {},
     "outputs": [],
     "prompt_number": 186
    },
    {
     "cell_type": "code",
     "collapsed": false,
     "input": [
      "s = [1, 2, 3, 4, 5]\n"
     ],
     "language": "python",
     "metadata": {},
     "outputs": [],
     "prompt_number": 187
    },
    {
     "cell_type": "code",
     "collapsed": false,
     "input": [
      "[square(x) for x in s if is_odd(x)]"
     ],
     "language": "python",
     "metadata": {},
     "outputs": [
      {
       "metadata": {},
       "output_type": "pyout",
       "prompt_number": 188,
       "text": [
        "[1, 9, 25]"
       ]
      }
     ],
     "prompt_number": 188
    },
    {
     "cell_type": "code",
     "collapsed": false,
     "input": [
      "def map_and_filter(s, map_fn, filter_fn):\n",
      "    \"\"\"Return a new list containing the result of calling MAP_FUNC on each\n",
      "    element of sequence S for which FILTER_FUNC returns a true value.\n",
      "\n",
      "    >>> square = lambda x: x * x\n",
      "    >>> is_odd = lambda x: x % 2 == 1\n",
      "    >>> map_and_filter([1, 2, 3, 4, 5], square, is_odd)\n",
      "    [1, 9, 25]\n",
      "    \"\"\"\n",
      "    \"*** YOUR CODE HERE ***\"\n",
      "    return [map_fn(x) for x in s if filter_fn(x)]\n",
      "\n",
      "    \n",
      "    "
     ],
     "language": "python",
     "metadata": {},
     "outputs": [],
     "prompt_number": 189
    },
    {
     "cell_type": "code",
     "collapsed": false,
     "input": [
      "map_and_filter([1, 2, 3, 4, 5], square, is_odd)"
     ],
     "language": "python",
     "metadata": {},
     "outputs": [
      {
       "metadata": {},
       "output_type": "pyout",
       "prompt_number": 173,
       "text": [
        "[1, 9, 25]"
       ]
      }
     ],
     "prompt_number": 173
    },
    {
     "cell_type": "code",
     "collapsed": false,
     "input": [
      "min([-1, 0, 1]) # no key argument; smallest input"
     ],
     "language": "python",
     "metadata": {},
     "outputs": [
      {
       "metadata": {},
       "output_type": "pyout",
       "prompt_number": 174,
       "text": [
        "-1"
       ]
      }
     ],
     "prompt_number": 174
    },
    {
     "cell_type": "code",
     "collapsed": false,
     "input": [
      " min([-1, 0, 1], key=lambda x: x*x) # input with the smallest square"
     ],
     "language": "python",
     "metadata": {},
     "outputs": [
      {
       "metadata": {},
       "output_type": "pyout",
       "prompt_number": 175,
       "text": [
        "0"
       ]
      }
     ],
     "prompt_number": 175
    },
    {
     "cell_type": "code",
     "collapsed": false,
     "input": [
      " #>>> letters = {'a': 6, 'b': 5, 'c': 4, 'd': 5}\n",
      "  #  >>> min(letters)\n",
      "  #  'a'\n",
      "#    >>> key_of_min_value(letters)\n",
      "  #  'c'\n",
      "    \n",
      "letters = {'a': 6, 'b': 5, 'c': 4, 'd': 5}\n",
      "    "
     ],
     "language": "python",
     "metadata": {},
     "outputs": [],
     "prompt_number": 176
    },
    {
     "cell_type": "code",
     "collapsed": false,
     "input": [
      "letters.keys()"
     ],
     "language": "python",
     "metadata": {},
     "outputs": [
      {
       "metadata": {},
       "output_type": "pyout",
       "prompt_number": 177,
       "text": [
        "['a', 'c', 'b', 'd']"
       ]
      }
     ],
     "prompt_number": 177
    },
    {
     "cell_type": "code",
     "collapsed": false,
     "input": [
      "min(letters.items(), key=lambda x:x[1])[0]"
     ],
     "language": "python",
     "metadata": {},
     "outputs": [
      {
       "metadata": {},
       "output_type": "pyout",
       "prompt_number": 179,
       "text": [
        "'c'"
       ]
      }
     ],
     "prompt_number": 179
    },
    {
     "cell_type": "code",
     "collapsed": false,
     "input": [
      "\n",
      "\n",
      "def key_of_min_value(d):\n",
      "    \"\"\"Returns the key in dict D that corresponds to the minimum value of D.\n",
      "\n",
      "    >>> letters = {'a': 6, 'b': 5, 'c': 4, 'd': 5}\n",
      "    >>> min(letters)\n",
      "    'a'\n",
      "    >>> key_of_min_value(letters)\n",
      "    'c'\n",
      "    \"\"\"\n",
      "    \"*** YOUR CODE HERE ***\"\n",
      "    return min(d.items(), key=lambda x:x[1])[0]\n"
     ],
     "language": "python",
     "metadata": {},
     "outputs": [],
     "prompt_number": 180
    },
    {
     "cell_type": "code",
     "collapsed": false,
     "input": [
      "key_of_min_value(letters)"
     ],
     "language": "python",
     "metadata": {},
     "outputs": [
      {
       "metadata": {},
       "output_type": "pyout",
       "prompt_number": 181,
       "text": [
        "'c'"
       ]
      }
     ],
     "prompt_number": 181
    },
    {
     "cell_type": "code",
     "collapsed": false,
     "input": [],
     "language": "python",
     "metadata": {},
     "outputs": [],
     "prompt_number": 172
    },
    {
     "cell_type": "code",
     "collapsed": false,
     "input": [
      "\n",
      "def enumerate(s, start=0):\n",
      "    \"\"\"Returns a list of lists, where the i-th list contains i+start and the\n",
      "    i-th element of the sequence.\n",
      "\n",
      "\n",
      "    >>> enumerate([6, 1, 'a'])\n",
      "    [[0, 6], [1, 1], [2, 'a']]\n",
      "    >>> enumerate('five', 5)\n",
      "    [[5, 'f'], [6, 'i'], [7, 'v'], [8, 'e']]\n",
      "    \"\"\"\n",
      "    return zip(range(start, start + len(s)), s)\n"
     ],
     "language": "python",
     "metadata": {},
     "outputs": [],
     "prompt_number": 17
    },
    {
     "cell_type": "code",
     "collapsed": false,
     "input": [
      "s = [6,1,'a']"
     ],
     "language": "python",
     "metadata": {},
     "outputs": [],
     "prompt_number": 18
    },
    {
     "cell_type": "code",
     "collapsed": false,
     "input": [
      "zip(range(len(s)), s)"
     ],
     "language": "python",
     "metadata": {},
     "outputs": [
      {
       "metadata": {},
       "output_type": "pyout",
       "prompt_number": 19,
       "text": [
        "[[0, 6], [1, 1], [2, 'a']]"
       ]
      }
     ],
     "prompt_number": 19
    },
    {
     "cell_type": "code",
     "collapsed": false,
     "input": [
      "s = 'five'"
     ],
     "language": "python",
     "metadata": {},
     "outputs": [],
     "prompt_number": 20
    },
    {
     "cell_type": "code",
     "collapsed": false,
     "input": [
      "zip(range(len(s)), s)"
     ],
     "language": "python",
     "metadata": {},
     "outputs": [
      {
       "metadata": {},
       "output_type": "pyout",
       "prompt_number": 21,
       "text": [
        "[[0, 'f'], [1, 'i'], [2, 'v'], [3, 'e']]"
       ]
      }
     ],
     "prompt_number": 21
    },
    {
     "cell_type": "code",
     "collapsed": false,
     "input": [
      "enumerate(s, 5)"
     ],
     "language": "python",
     "metadata": {},
     "outputs": [
      {
       "metadata": {},
       "output_type": "pyout",
       "prompt_number": 23,
       "text": [
        "[[5, 'f'], [6, 'i'], [7, 'v'], [8, 'e']]"
       ]
      }
     ],
     "prompt_number": 23
    },
    {
     "cell_type": "code",
     "collapsed": false,
     "input": [
      "range(0, len(s))"
     ],
     "language": "python",
     "metadata": {},
     "outputs": [
      {
       "metadata": {},
       "output_type": "pyout",
       "prompt_number": 24,
       "text": [
        "[0, 1, 2, 3]"
       ]
      }
     ],
     "prompt_number": 24
    },
    {
     "cell_type": "code",
     "collapsed": false,
     "input": [
      "start = 5"
     ],
     "language": "python",
     "metadata": {},
     "outputs": [],
     "prompt_number": 25
    },
    {
     "cell_type": "code",
     "collapsed": false,
     "input": [
      "range(start, start + len(s))"
     ],
     "language": "python",
     "metadata": {},
     "outputs": [
      {
       "metadata": {},
       "output_type": "pyout",
       "prompt_number": 26,
       "text": [
        "[5, 6, 7, 8]"
       ]
      }
     ],
     "prompt_number": 26
    },
    {
     "cell_type": "code",
     "collapsed": false,
     "input": [],
     "language": "python",
     "metadata": {},
     "outputs": []
    }
   ],
   "metadata": {}
  }
 ]
}

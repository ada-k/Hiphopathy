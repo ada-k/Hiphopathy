{
 "cells": [
  {
   "cell_type": "markdown",
   "metadata": {},
   "source": [
    "#####     Introduction to Data Exploration using Hip-Hop Lyrics"
   ]
  },
  {
   "cell_type": "markdown",
   "metadata": {},
   "source": [
    "Welcome to an innovative way of teaching and sharing the delights that comes when data, computational methods and culture collide. The goal of this lab is to connect cultural relevance to computing by introducing elementary techniques of natural language processing with a corpus of hip-hop data.\n",
    "\n",
    "\n",
    "Art is something that we often believe that is separate from the so-called hard sciences. As a result, those of people who are gifted in the arts or are inclined in that direction, shy away from the sciences because many fall prey to the false choice of choosing between the arts or the sciences.\n",
    "\n",
    "\n",
    "We want to change this false dichotomy by bringing the power of computational methods to investigate and explore the riches that are inherent in the arts. It is for this reason that we have chosen to use a corpus of hip-hop lyrics as the dataset on which we will practice our computational techniques. At the end of this lab you will be able to build a visualization of the occurrence of certain words in a rap corpus.\n",
    "\n",
    "\n",
    "One of the reasons why Python is loved is that it is a language that lends itself well to things like building webapps as well as ``hardcore\" computational science like calculating the orbits of planets and stuff like that. What we are interested in, is doing a bit of data manipulation based on a hip-hop corpus. We are going to be doing something similar to what Matt Daniels did with the hip-hop vocabulary. We are going to get under the hood and create our own hypothesis.\n",
    "\n"
   ]
  },
  {
   "cell_type": "code",
   "execution_count": 3,
   "metadata": {
    "collapsed": false
   },
   "outputs": [
    {
     "data": {
      "text/html": [
       "<iframe src=http://www.npr.org/2014/05/05/309840473/yeezy-or-the-bard-whos-the-best-wordsmith-in-hip-hop width=700 height=500></iframe>"
      ],
      "text/plain": [
       "<IPython.core.display.HTML object>"
      ]
     },
     "execution_count": 3,
     "metadata": {},
     "output_type": "execute_result"
    }
   ],
   "source": [
    "from IPython.display import HTML\n",
    "HTML('<iframe src=http://www.npr.org/2014/05/05/309840473/yeezy-or-the-bard-whos-the-best-wordsmith-in-hip-hop width=700 height=500></iframe>')\n"
   ]
  },
  {
   "cell_type": "markdown",
   "metadata": {},
   "source": [
    "If you read this article, you will see that Matt used the first 35,000 lyrics of each artist. For the sake of If you read the article, you will see that Matt used the first 35,000 lyrics of each artist. For the sake of simplicity, I am going to use the artist Jay Z as the subject of our analysis. So let's go and collect the first 35,000 words of the Jay Z lyrical catalog.\n",
    "\n",
    "How are we going to do this you might ask? Well first off, you can go to your favorite search engine and search for Jay Z lyrics. On the other hand, you can actually use the rap annotation site genius(http://rap.genius.com/) to get all that information and then some. According to Genius, Jay Z has a lot of songs. On average, most rap songs are usually set with 3 verses containing sixteen bars, or sixteen sentences each. \n",
    "\n",
    "```python\n",
    "35000/(16 * 3) \n",
    "729\n",
    "```\n",
    "\n",
    "So if 16 by 3 = 48, and 48 goes into 35000 gives approximately 729 songs. That can't be right, even though Jay Z is prolific, he hasn't written 700+ songs. So I must have gotten my understanding wrong."
   ]
  },
  {
   "cell_type": "code",
   "execution_count": 39,
   "metadata": {
    "collapsed": false
   },
   "outputs": [
    {
     "data": {
      "text/plain": [
       "729"
      ]
     },
     "execution_count": 39,
     "metadata": {},
     "output_type": "execute_result"
    }
   ],
   "source": [
    "35000/(16 * 3) "
   ]
  },
  {
   "cell_type": "markdown",
   "metadata": {},
   "source": [
    "I proceeded under the false assumption that each lyric was a sentence. Now I can see that each lyric must mean each word instead. This brings me to an essential quality of a good problem solver and Computer Scientist, the ability to embrace failure. More on that later. So lets go back and re-analyze the numbers. I need to figure out how many words are in the average rap bar?\n",
    "\n",
    "\n",
    "In order to solve this we need to basically find every instance of Jay Z's lyric, scrape them off the Internet, and then start number crunching on them. To make this process faster, I have already built something called a webscraper and scraped all his lyrics till the Holy Grail album. Hopefully that gives us more than enough data to get to 35,000 words.\n",
    "\n",
    "\n",
    "The lyrics I scraped off the Internet have been compressed in the zip file named `JayZ.zip.' Go ahead an unpack this file to our PythonDataLab folder. Take a look inside, you will see its made up of a bunch of text files. Take sometime and go through some the text file to see what they look like. For example the file ``JayZ\\_The Black Album\\_99 Problems.txt\" contains the lyrics to 99 problems.\n",
    "\n",
    "\n",
    "Now that we have these files, we are going to use some Python packages (a package is also known as a library) to help us. The Python natural language toolkit (NLTK) is one of the more popular Python libraries that people use for natural language processing. In fact, Matt Daniels used it for his hip-hop vocabulary. You can learn more about NLTK here, http://www.nltk.org/book/. \n",
    "\n",
    "So lets import the toolkit. Go ahead a fire up Python in terminal. To import any package in Python, you type in the keyword import, followed by the name of the toolkit.\n"
   ]
  },
  {
   "cell_type": "code",
   "execution_count": 40,
   "metadata": {
    "collapsed": false
   },
   "outputs": [],
   "source": [
    "import nltk"
   ]
  },
  {
   "cell_type": "markdown",
   "metadata": {},
   "source": [
    "The nltk library has a lot of functions associated with it. The one we are going to use in particular is called a Corpus reader. If you look up the definition of a corpus, you will see that it is just a collection of written text. The JayZ folder contains a corpora of Jay Z lyrics. The great thing about nltk is that it comes with built-in support for dozens of corpora. For example, NLTK includes a small selection of texts from Project Gutenberg, which contains some 25,000 free electronic books. To see some of these books we can run the following query"
   ]
  },
  {
   "cell_type": "code",
   "execution_count": 41,
   "metadata": {
    "collapsed": false
   },
   "outputs": [
    {
     "data": {
      "text/plain": [
       "['austen-emma.txt',\n",
       " 'austen-persuasion.txt',\n",
       " 'austen-sense.txt',\n",
       " 'bible-kjv.txt',\n",
       " 'blake-poems.txt',\n",
       " 'bryant-stories.txt',\n",
       " 'burgess-busterbrown.txt',\n",
       " 'carroll-alice.txt',\n",
       " 'chesterton-ball.txt',\n",
       " 'chesterton-brown.txt',\n",
       " 'chesterton-thursday.txt',\n",
       " 'edgeworth-parents.txt',\n",
       " 'melville-moby_dick.txt',\n",
       " 'milton-paradise.txt',\n",
       " 'shakespeare-caesar.txt',\n",
       " 'shakespeare-hamlet.txt',\n",
       " 'shakespeare-macbeth.txt',\n",
       " 'whitman-leaves.txt']"
      ]
     },
     "execution_count": 41,
     "metadata": {},
     "output_type": "execute_result"
    }
   ],
   "source": [
    "nltk.corpus.gutenberg.fileids()"
   ]
  },
  {
   "cell_type": "code",
   "execution_count": 42,
   "metadata": {
    "collapsed": false
   },
   "outputs": [],
   "source": [
    "from nltk.corpus import PlaintextCorpusReader\n",
    "corpus_root = 'JayZ'\n",
    "wordlist = PlaintextCorpusReader(corpus_root, '.*')"
   ]
  },
  {
   "cell_type": "markdown",
   "metadata": {},
   "source": [
    "Ah, there is Shakespeare's *Macbeth*, *Hamlet*, as well as *Julius Cesar*. There is also the King James version of the bible as well as Jane Austen's Emma. Let's get on to the business of making our JayZ corpus.\n",
    "\n",
    "Based on my perusal of the nltk book, I know that there is a plaintext corpus reading function named PlaintextCorpusReader that I can use to make my corpus. So from nltk corpus function, which I access through the '.' (dot) operator, I import PlaintextCorpusReader\n",
    "\n",
    "```python \n",
    "from nltk.corpus import PlaintextCorpusReader\n",
    "```\n",
    "\n",
    "I create a variable that I name corpus_root and assign the full system path location to where I unzipped the JayZ file I downloaded.\n",
    "\n",
    "```python\n",
    "corpus_root = 'JayZ'\n",
    "```\n",
    "\n",
    "I then call the plain text corpus reader function with the root location and the token \"'.'\" that means grab every file in that folder. \n",
    "```python\n",
    "wordlist = PlaintextCorpusReader(corpus_root, '.*')\n",
    "```\n",
    "\n",
    "I have adapted a function from nltk to reading in my corpus. This function is below. In order to make this function work, we will need to get some additional libraries of functions. In this case, we will need the regular expressions library named \"re\". So the first thing we need to do is import that package.\n"
   ]
  },
  {
   "cell_type": "code",
   "execution_count": 43,
   "metadata": {
    "collapsed": false
   },
   "outputs": [],
   "source": [
    "import re\n",
    "\n",
    "\"\"\"\n",
    "This function takes in an object of the type PlaintextCorpusReader, and system path.\n",
    "It returns an nltk corpus\n",
    "\n",
    "It requires the regular expression package re to work\n",
    "\"\"\"\n",
    "\n",
    "def create_corpus(wordlist, some_corpus): #process the files so I know what was read in\n",
    "    for fileid in wordlist.fileids():\n",
    "        raw = wordlist.raw(fileid)\n",
    "        raw = re.split(r'\\W+', raw) ## split the raw text into appropriate words \n",
    "        ## while I am cleaning up, I should strip out the word chorus followed by the next word\n",
    "        some_corpus.extend(raw)\n",
    "        print fileid\n",
    "\n",
    "    return some_corpus"
   ]
  },
  {
   "cell_type": "markdown",
   "metadata": {},
   "source": [
    "The function does something then you type in the following \n",
    "```python\n",
    "the_corpus = create_corpus(wordlist, []) \n",
    "```\n",
    "Now `the_corpus` contains all the lyrics. I wrote the `create_corpus` function in a way that shows what lyrics were read in. You should have a similar output to the one below.\n",
    "\n",
    "The series of words that make up Jay Z's lyrics is now represented by a list data structure, named `the_corpus`. This list data structure is the same exact computational mental model that we have already acquired with the list data structure we are already familiar with in Snap*!*. Hopefully, you are beginning to gain a better understanding of how all the computational thinking skills you acquired in your learning of Snap*!* carries over to solving any computation problem realized in any programming language.\n"
   ]
  },
  {
   "cell_type": "code",
   "execution_count": 44,
   "metadata": {
    "collapsed": false
   },
   "outputs": [
    {
     "name": "stdout",
     "output_type": "stream",
     "text": [
      "JayZ_American Gangster_American Dreamin.txt\n",
      "JayZ_American Gangster_American Gangster.txt\n",
      "JayZ_American Gangster_Blue Magic.txt\n",
      "JayZ_American Gangster_Fallin.txt\n",
      "JayZ_American Gangster_Hello Brooklyn 20.txt\n",
      "JayZ_American Gangster_I Know.txt\n",
      "JayZ_American Gangster_Ignorant Shit.txt\n",
      "JayZ_American Gangster_Intro.txt\n",
      "JayZ_American Gangster_No Hook.txt\n",
      "JayZ_American Gangster_Party Life.txt\n",
      "JayZ_American Gangster_Pray.txt\n",
      "JayZ_American Gangster_Say Hello.txt\n",
      "JayZ_American Gangster_Success.txt\n",
      "JayZ_American Gangster_Sweet.txt\n",
      "JayZ_Collision Course_Big Pimpin  Papercut.txt\n",
      "JayZ_Collision Course_Dirt Off Your Shoulder  Lying From You.txt\n",
      "JayZ_Collision Course_Izzo  In The End.txt\n",
      "JayZ_Collision Course_Jigga What  Faint.txt\n",
      "JayZ_Collision Course_Numb  Encore.txt\n",
      "JayZ_Collision Course_Points Of Authority  99 Problems  One Step Closer.txt\n",
      "JayZ_In My Lifetime Vol. 1_Face Off.txt\n",
      "JayZ_In My Lifetime Vol. 1_Friend Or Foe '98.txt\n",
      "JayZ_In My Lifetime Vol. 1_I Know What Girls Like.txt\n",
      "JayZ_In My Lifetime Vol. 1_Imaginary Player.txt\n",
      "JayZ_In My Lifetime Vol. 1_Lucky Me.txt\n",
      "JayZ_In My Lifetime Vol. 1_Real Niggaz.txt\n",
      "JayZ_In My Lifetime Vol. 1_Sunshine.txt\n",
      "JayZ_In My Lifetime Vol. 1_The Streets Is Watching.txt\n",
      "JayZ_In My Lifetime Vol. 1_Where I'm From.txt\n",
      "JayZ_In My Lifetime Vol. 1_Who You Wit II.txt\n",
      "JayZ_In My Lifetime Vol. 1_You Must Love Me.txt\n",
      "JayZ_Kingdom Come_30 Something.txt\n",
      "JayZ_Kingdom Come_44 Fours.txt\n",
      "JayZ_Kingdom Come_Anything.txt\n",
      "JayZ_Kingdom Come_Beach Chair.txt\n",
      "JayZ_Kingdom Come_Dig A Hole.txt\n",
      "JayZ_Kingdom Come_Do U Wanna Ride.txt\n",
      "JayZ_Kingdom Come_Hollywood.txt\n",
      "JayZ_Kingdom Come_I Made It.txt\n",
      "JayZ_Kingdom Come_Kingdom Come.txt\n",
      "JayZ_Kingdom Come_Lost One.txt\n",
      "JayZ_Kingdom Come_Minority Report.txt\n",
      "JayZ_Kingdom Come_Oh My God.txt\n",
      "JayZ_Kingdom Come_Show Me What You Got.txt\n",
      "JayZ_Kingdom Come_The Prelude.txt\n",
      "JayZ_Kingdom Come_Trouble.txt\n",
      "JayZ_Reasonable Doubt_22 Two's.txt\n",
      "JayZ_Reasonable Doubt_Ain't No Nigga.txt\n",
      "JayZ_Reasonable Doubt_Bring It On.txt\n",
      "JayZ_Reasonable Doubt_Brooklyn's Finest.txt\n",
      "JayZ_Reasonable Doubt_Can I Live II.txt\n",
      "JayZ_Reasonable Doubt_Can I Live.txt\n",
      "JayZ_Reasonable Doubt_Can't Knock The Hustle.txt\n",
      "JayZ_Reasonable Doubt_Cashmere Thoughts.txt\n",
      "JayZ_Reasonable Doubt_Coming Of Age.txt\n",
      "JayZ_Reasonable Doubt_D'Evils.txt\n",
      "JayZ_Reasonable Doubt_Dead Presidents II.txt\n",
      "JayZ_Reasonable Doubt_Feelin It.txt\n",
      "JayZ_Reasonable Doubt_Friend Or Foe.txt\n",
      "JayZ_Reasonable Doubt_Politics As Usual.txt\n",
      "JayZ_Reasonable Doubt_Regrets.txt\n",
      "JayZ_The Best Of Both Worlds_Break Up To Make Up.txt\n",
      "JayZ_The Best Of Both Worlds_Get This Money.txt\n",
      "JayZ_The Best Of Both Worlds_Green Light.txt\n",
      "JayZ_The Best Of Both Worlds_Honey.txt\n",
      "JayZ_The Best Of Both Worlds_It Aint Personal.txt\n",
      "JayZ_The Best Of Both Worlds_Naked.txt\n",
      "JayZ_The Best Of Both Worlds_Pussy.txt\n",
      "JayZ_The Best Of Both Worlds_Shake Ya Body.txt\n",
      "JayZ_The Best Of Both Worlds_Shorty.txt\n",
      "JayZ_The Best Of Both Worlds_Somebodys Girl.txt\n",
      "JayZ_The Best Of Both Worlds_Take You Home With Me aka Body.txt\n",
      "JayZ_The Best Of Both Worlds_The Best Of Both Worlds.txt\n",
      "JayZ_The Best Of Both Worlds_The Streets.txt\n",
      "JayZ_The Black Album_99 Problems.txt\n",
      "JayZ_The Black Album_Allure.txt\n",
      "JayZ_The Black Album_Change Clothes.txt\n",
      "JayZ_The Black Album_December 4th.txt\n",
      "JayZ_The Black Album_Dirt Off Your Shoulder.txt\n",
      "JayZ_The Black Album_Encore.txt\n",
      "JayZ_The Black Album_Justify My Thug.txt\n",
      "JayZ_The Black Album_Lucifer.txt\n",
      "JayZ_The Black Album_Moment Of Clarity.txt\n",
      "JayZ_The Black Album_My 1st Song.txt\n",
      "JayZ_The Black Album_Threat.txt\n",
      "JayZ_The Blueprint 2: The Gift & The Curse_03 Bonnie  Clyde.txt\n",
      "JayZ_The Blueprint 2: The Gift & The Curse_2 Many Hoes.txt\n",
      "JayZ_The Blueprint 2: The Gift & The Curse_A Ballad For The Fallen Soldier.txt\n",
      "JayZ_The Blueprint 2: The Gift & The Curse_A Dream.txt\n",
      "JayZ_The Blueprint 2: The Gift & The Curse_All Around The World.txt\n",
      "JayZ_The Blueprint 2: The Gift & The Curse_As One.txt\n",
      "JayZ_The Blueprint 2: The Gift & The Curse_Bitches  Sisters.txt\n",
      "JayZ_The Blueprint 2: The Gift & The Curse_Blueprint 2.txt\n",
      "JayZ_The Blueprint 2: The Gift & The Curse_Diamond Is Forever.txt\n",
      "JayZ_The Blueprint 2: The Gift & The Curse_Excuse Me Miss.txt\n",
      "JayZ_The Blueprint 2: The Gift & The Curse_Fuck All Nite.txt\n",
      "JayZ_The Blueprint 2: The Gift & The Curse_Guns  Roses.txt\n",
      "JayZ_The Blueprint 2: The Gift & The Curse_Hovi Baby.txt\n",
      "JayZ_The Blueprint 2: The Gift & The Curse_I Did It My Way.txt\n",
      "JayZ_The Blueprint 2: The Gift & The Curse_Meet The Parents.txt\n",
      "JayZ_The Blueprint 2: The Gift & The Curse_Nigga Please.txt\n",
      "JayZ_The Blueprint 2: The Gift & The Curse_Poppin Tags.txt\n",
      "JayZ_The Blueprint 2: The Gift & The Curse_Show You How.txt\n",
      "JayZ_The Blueprint 2: The Gift & The Curse_Some How Some Way.txt\n",
      "JayZ_The Blueprint 2: The Gift & The Curse_Some People Hate.txt\n",
      "JayZ_The Blueprint 2: The Gift & The Curse_The Bounce.txt\n",
      "JayZ_The Blueprint 2: The Gift & The Curse_The Watcher 2.txt\n",
      "JayZ_The Blueprint 2: The Gift & The Curse_What They Gonna Do Part II.txt\n",
      "JayZ_The Blueprint 2: The Gift & The Curse_What They Gonna Do.txt\n",
      "JayZ_The Blueprint 3_A Star Is Born.txt\n",
      "JayZ_The Blueprint 3_Already Home.txt\n",
      "JayZ_The Blueprint 3_Empire State Of Mind.txt\n",
      "JayZ_The Blueprint 3_Hate.txt\n",
      "JayZ_The Blueprint 3_Off That.txt\n",
      "JayZ_The Blueprint 3_On To The Next One.txt\n",
      "JayZ_The Blueprint 3_Real As It Gets.txt\n",
      "JayZ_The Blueprint 3_Reminder.txt\n",
      "JayZ_The Blueprint 3_Run This Town.txt\n",
      "JayZ_The Blueprint 3_So Ambitious.txt\n",
      "JayZ_The Blueprint 3_Thank You.txt\n",
      "JayZ_The Blueprint 3_Venus Vs Mars.txt\n",
      "JayZ_The Blueprint 3_What We Talkin About.txt\n",
      "JayZ_The Blueprint 3_Young Forever.txt\n",
      "JayZ_The Blueprint_All I Need.txt\n",
      "JayZ_The Blueprint_Girls Girls Girls.txt\n",
      "JayZ_The Blueprint_Hola Hovito.txt\n",
      "JayZ_The Blueprint_Jigga That Nigga.txt\n",
      "JayZ_The Blueprint_Never Change.txt\n",
      "JayZ_The Blueprint_Renegade.txt\n",
      "JayZ_The Blueprint_Song Cry.txt\n",
      "JayZ_The Blueprint_Takeover.txt\n",
      "JayZ_The Blueprint_The Best Of Both Worlds.txt\n",
      "JayZ_The Blueprint_The Rulers Back.txt\n",
      "JayZ_The Blueprint_U Dont Know.txt\n",
      "JayZ_The Dynasty Roc La Familia_1900Hustler.txt\n",
      "JayZ_The Dynasty Roc La Familia_Change The Game.txt\n",
      "JayZ_The Dynasty Roc La Familia_Get Your Mind Right Mami.txt\n",
      "JayZ_The Dynasty Roc La Familia_Guilty Until Proven Innocent.txt\n",
      "JayZ_The Dynasty Roc La Familia_Holla.txt\n",
      "JayZ_The Dynasty Roc La Familia_Intro.txt\n",
      "JayZ_The Dynasty Roc La Familia_Parking Lot Pimpin.txt\n",
      "JayZ_The Dynasty Roc La Familia_Soon Youll Understand.txt\n",
      "JayZ_The Dynasty Roc La Familia_Squeeze 1st.txt\n",
      "JayZ_The Dynasty Roc La Familia_Stick 2 The Script.txt\n",
      "JayZ_The Dynasty Roc La Familia_Streets Is Talking.txt\n",
      "JayZ_The Dynasty Roc La Familia_The ROC.txt\n",
      "JayZ_The Dynasty Roc La Familia_This Cant Be Life.txt\n",
      "JayZ_The Dynasty Roc La Familia_Where Have You Been.txt\n",
      "JayZ_The Dynasty Roc La Familia_You Me Him And Her.txt\n",
      "JayZ_Unfinished Business_Big Chips.txt\n",
      "JayZ_Unfinished Business_Dont Let Me Die.txt\n",
      "JayZ_Unfinished Business_Feelin You In Stereo.txt\n",
      "JayZ_Unfinished Business_Mo Money.txt\n",
      "JayZ_Unfinished Business_Pretty Girls.txt\n",
      "JayZ_Unfinished Business_Shes Coming Home With Me.txt\n",
      "JayZ_Unfinished Business_Stop.txt\n",
      "JayZ_Unfinished Business_The Return.txt\n",
      "JayZ_Unfinished Business_We Got Em Goin.txt\n",
      "JayZ_Vol. 2...  Hard Knock Life_A Week Ago.txt\n",
      "JayZ_Vol. 2...  Hard Knock Life_If I Should Die.txt\n",
      "JayZ_Vol. 2...  Hard Knock Life_Intro  Hand It Down.txt\n",
      "JayZ_Vol. 2...  Hard Knock Life_Intro - Hand It Down.txt\n",
      "JayZ_Vol. 2...  Hard Knock Life_Its Alright.txt\n",
      "JayZ_Vol. 2...  Hard Knock Life_Its Like That.txt\n",
      "JayZ_Vol. 2...  Hard Knock Life_Money Aint A Thang.txt\n",
      "JayZ_Vol. 2...  Hard Knock Life_Money Cash Hoes.txt\n",
      "JayZ_Vol. 2...  Hard Knock Life_Paper Chase.txt\n",
      "JayZ_Vol. 2...  Hard Knock Life_Reservoir Dogs.txt\n",
      "JayZ_Vol. 2...  Hard Knock Life_Ride Or Die.txt\n",
      "JayZ_Vol. 3... Life And Times Of S. Carter_Anything.txt\n",
      "JayZ_Vol. 3... Life And Times Of S. Carter_Come And Get Me.txt\n",
      "JayZ_Vol. 3... Life And Times Of S. Carter_Do It Again.txt\n",
      "JayZ_Vol. 3... Life And Times Of S. Carter_Dope Man.txt\n",
      "JayZ_Vol. 3... Life And Times Of S. Carter_Girls Best Friend.txt\n",
      "JayZ_Vol. 3... Life And Times Of S. Carter_Jigga My Nigga.txt\n",
      "JayZ_Vol. 3... Life And Times Of S. Carter_NYMP.txt\n",
      "JayZ_Vol. 3... Life And Times Of S. Carter_Pop 4 Roc.txt\n",
      "JayZ_Vol. 3... Life And Times Of S. Carter_S Carter.txt\n",
      "JayZ_Vol. 3... Life And Times Of S. Carter_Snoopy Track.txt\n",
      "JayZ_Vol. 3... Life And Times Of S. Carter_So Ghetto.txt\n",
      "JayZ_Vol. 3... Life And Times Of S. Carter_Theres Been A Murder.txt\n",
      "JayZ_Vol. 3... Life And Times Of S. Carter_Things That U Do.txt\n",
      "JayZ_Vol. 3... Life And Times Of S. Carter_Watch Me.txt\n",
      "JayZ_Watch The Throne_20 Bag Shorty.txt\n",
      "JayZ_Watch The Throne_8 Miles And Runnin.txt\n"
     ]
    }
   ],
   "source": [
    "the_corpus = create_corpus(wordlist, []) "
   ]
  },
  {
   "cell_type": "code",
   "execution_count": 45,
   "metadata": {
    "collapsed": false
   },
   "outputs": [
    {
     "data": {
      "text/plain": [
       "119302"
      ]
     },
     "execution_count": 45,
     "metadata": {},
     "output_type": "execute_result"
    }
   ],
   "source": [
    "len(the_corpus)"
   ]
  },
  {
   "cell_type": "markdown",
   "metadata": {},
   "source": [
    "We have finally gotten our Jay Z Corpus! The data that we collected has a 119,302 words. You can see for yourself by running the `len` (Python function for figuring out the length of a list) on `the_corpus`. This is great, because we are interested in the first 35,000 words of the corpora, in order to recreate the data science experiment of the hip-hop vocabulary; which determines the number of unique words used within an artist's first 35,000 lyrics.\n"
   ]
  },
  {
   "cell_type": "markdown",
   "metadata": {},
   "source": [
    "The corpus is stored in a list data structure, which lends itself to list manipulation techniques. You can see all the ways you can interact with a list in the Python documentation here https://docs.Python.org/2/tutorial/datastructures.html.\n",
    "\n",
    "Did you know that 80-90% of time spent on data projects is gathering data and putting it into a format you can analyze? Geez\n",
    "\n",
    "Let's take a look inside `the_corpus`, to determine what the first 10 words are."
   ]
  },
  {
   "cell_type": "code",
   "execution_count": 46,
   "metadata": {
    "collapsed": false
   },
   "outputs": [
    {
     "data": {
      "text/plain": [
       "['Dreamed',\n",
       " 'of',\n",
       " 'you',\n",
       " 'this',\n",
       " 'morning',\n",
       " 'Then',\n",
       " 'came',\n",
       " 'the',\n",
       " 'dawn',\n",
       " 'and']"
      ]
     },
     "execution_count": 46,
     "metadata": {},
     "output_type": "execute_result"
    }
   ],
   "source": [
    "the_corpus[:10]"
   ]
  },
  {
   "cell_type": "markdown",
   "metadata": {},
   "source": [
    "Here's a little secret: much of NLP (and data science, for that matter) boils down to counting things. If you've got a bunch of data that needs analyzin' but you don't know where to start, counting things is usually a good place to begin. Sure, you'll need to figure out exactly what you want to count, how to count it, and what to do with the counts, but if you're lost and don't know what to do, just start counting. Some of this content has been adapted from Charlie Greenbacker's [A smattering of NLP in Python][1]\n",
    "\n",
    "These words come from the first text file that was read in, JayZ_American Gangster_American Dreamin.txt. We can go ahead and save all the album titles by typing in `Albums = wordlist.fileids()`\n",
    "\n",
    "\n",
    "  [1]: http://nbviewer.ipython.org/github/charlieg/A-Smattering-of-NLP-in-Python/blob/master/A%20Smattering%20of%20NLP%20in%20Python.ipynb        \"A smattering of NLP in Python\"\n"
   ]
  },
  {
   "cell_type": "code",
   "execution_count": 48,
   "metadata": {
    "collapsed": false
   },
   "outputs": [
    {
     "data": {
      "text/plain": [
       "['JayZ_American Gangster_American Dreamin.txt',\n",
       " 'JayZ_American Gangster_American Gangster.txt',\n",
       " 'JayZ_American Gangster_Blue Magic.txt',\n",
       " 'JayZ_American Gangster_Fallin.txt',\n",
       " 'JayZ_American Gangster_Hello Brooklyn 20.txt',\n",
       " 'JayZ_American Gangster_I Know.txt',\n",
       " 'JayZ_American Gangster_Ignorant Shit.txt',\n",
       " 'JayZ_American Gangster_Intro.txt',\n",
       " 'JayZ_American Gangster_No Hook.txt',\n",
       " 'JayZ_American Gangster_Party Life.txt',\n",
       " 'JayZ_American Gangster_Pray.txt',\n",
       " 'JayZ_American Gangster_Say Hello.txt',\n",
       " 'JayZ_American Gangster_Success.txt',\n",
       " 'JayZ_American Gangster_Sweet.txt']"
      ]
     },
     "execution_count": 48,
     "metadata": {},
     "output_type": "execute_result"
    }
   ],
   "source": [
    "Albums = wordlist.fileids()\n",
    "Albums[:14]\n",
    "[fileid for fileid in Albums[:14]]"
   ]
  },
  {
   "cell_type": "code",
   "execution_count": 50,
   "metadata": {
    "collapsed": false
   },
   "outputs": [
    {
     "data": {
      "text/plain": [
       "['die', 'And', 'even', 'if', 'Jehovah', 'witness', 'bet', 'he', 'll', 'never']"
      ]
     },
     "execution_count": 50,
     "metadata": {},
     "output_type": "execute_result"
    }
   ],
   "source": [
    "the_corpus[34990:35000]"
   ]
  },
  {
   "cell_type": "markdown",
   "metadata": {},
   "source": [
    "We can now go ahead and figure out the number of unique words used in Jay Z's first 35,000 lyrics. An astute observer will notice that we have not done any data cleaning. For example, take a look inside a slice of the corpus, the last 10 words `the_corpus[34990:35000]`, `['die', 'And', 'even', 'if', 'Jehovah', 'witness', 'bet', 'he', 'll', 'never']`, you will see it has treated the contraction \"I'm\" as two separate words. The `create_corpus` function that we used, works by separating each contiguous chunk of alphabets separated by punctuations or space as a word. As a result contractions like \"I'm\" gets treated as two words. We can use the function `lexical_diversity` to determine the number of unique words in our Jay Z corpus."
   ]
  },
  {
   "cell_type": "code",
   "execution_count": 51,
   "metadata": {
    "collapsed": false
   },
   "outputs": [],
   "source": [
    "def lexical_diversity(my_text_data):\n",
    "...     word_count = len(my_text_data)\n",
    "...     vocab_size = len(set(my_text_data))\n",
    "...     diversity_score = word_count / vocab_size\n",
    "...     return diversity_score"
   ]
  },
  {
   "cell_type": "markdown",
   "metadata": {},
   "source": [
    "If we call our function on the Jay Z sliced corpus, it should give us a score."
   ]
  },
  {
   "cell_type": "code",
   "execution_count": 52,
   "metadata": {
    "collapsed": false
   },
   "outputs": [
    {
     "name": "stdout",
     "output_type": "stream",
     "text": [
      "The lexical diversity score for the first 35,000 words in the Jay Z corpus is  6\n",
      "The lexical diversity score for the first 35,000 words in the Emma corpus is  10\n"
     ]
    }
   ],
   "source": [
    "emma = nltk.corpus.gutenberg.words('austen-emma.txt')\n",
    "\n",
    "print \"The lexical diversity score for the first 35,000 words in the Jay Z corpus is \", lexical_diversity(the_corpus[:35000])\n",
    "print \"The lexical diversity score for the first 35,000 words in the Emma corpus is \", lexical_diversity(emma[:35000])\n",
    "\n"
   ]
  },
  {
   "cell_type": "markdown",
   "metadata": {},
   "source": [
    "\n",
    "Remember we had created a `wordlist` of type `PlaintextCorpusReader`. This uses the data structure of a nested list. \n",
    "PlaintextCorpusReader type is made up of a list of fileids, which are made up of a list of paragraphs, which are in turn made up of a list of sentences, which are in turn made up of a list of words.\n",
    "\n",
    "- `words()`: list of str\n",
    "- `sents()`: list of (list of str) \n",
    "- `paras()`: list of (list of (list of str)) \n",
    "- `fileids()`: list of (list of (list of (list of str)))"
   ]
  },
  {
   "cell_type": "markdown",
   "metadata": {},
   "source": [
    "In this section, lets investigate the use of basketball language in Jay Z's lyrics. Go ahead and save all the album titles by typing in `Albums = wordlist.fileids()`. Notice that JayZ_ text appears before each of the filenames. To get this prefix out of the filename, we can extract the first five characters, using `fileid[5:]`.\n",
    "\n",
    "Here's a little secret: much of NLP (and data science, for that matter) boils down to counting things. If you've got a bunch of data that needs analyzin' but you don't know where to start, counting things is usually a good place to begin. Sure, you'll need to figure out exactly what you want to count, how to count it, and what to do with the counts, but if you're lost and don't know what to do, just start counting. "
   ]
  },
  {
   "cell_type": "code",
   "execution_count": 53,
   "metadata": {
    "collapsed": false
   },
   "outputs": [
    {
     "data": {
      "text/plain": [
       "['American Gangster_American Dreamin.txt',\n",
       " 'American Gangster_American Gangster.txt',\n",
       " 'American Gangster_Blue Magic.txt',\n",
       " 'American Gangster_Fallin.txt',\n",
       " 'American Gangster_Hello Brooklyn 20.txt',\n",
       " 'American Gangster_I Know.txt',\n",
       " 'American Gangster_Ignorant Shit.txt',\n",
       " 'American Gangster_Intro.txt',\n",
       " 'American Gangster_No Hook.txt',\n",
       " 'American Gangster_Party Life.txt',\n",
       " 'American Gangster_Pray.txt',\n",
       " 'American Gangster_Say Hello.txt',\n",
       " 'American Gangster_Success.txt',\n",
       " 'American Gangster_Sweet.txt']"
      ]
     },
     "execution_count": 53,
     "metadata": {},
     "output_type": "execute_result"
    }
   ],
   "source": [
    "[fileid[5:] for fileid in Albums[:14]]"
   ]
  },
  {
   "cell_type": "markdown",
   "metadata": {},
   "source": [
    "We are ready to start mining the data. So let's do a simple analysis on the occurrence of the concept \"basketball\" in JayZ's lyrics as represented by a list of 40 terms that are common when we talk about basketball."
   ]
  },
  {
   "cell_type": "code",
   "execution_count": 54,
   "metadata": {
    "collapsed": false
   },
   "outputs": [],
   "source": [
    "basketball_bag_of_words = ['bounce','crossover','technical',\n",
    " 'shooting','double','jump','goal','backdoor','chest','ball',\n",
    " 'team','block','throw','offensive','point','airball','pick',\n",
    " 'assist','shot','layup','break','dribble','roll','cut','forward',\n",
    " 'move','zone','three-pointer','free','post','fast','blocking','backcourt',\n",
    " 'violation','foul','field','pass','turnover','alley-oop','guard']"
   ]
  },
  {
   "cell_type": "markdown",
   "metadata": {},
   "source": [
    "Lets reduce our investigation of this concept to just the American Gangster album, which is the first 14 songs in the corpus. We do that by using the command `Albums[:14]`. Remember that `Albums` is just a list data type, so we can slice it, to its first 14 indexes.\n",
    "\n",
    "\n",
    "The following code converts the words in the basket ball concept to lowercase using `w.lower()`, then checks if they start with any of the \"targets\", that is, each of the words in the `basketball_bag_of_words`, using the command `startswith()`. Thus, it will count words like \"turnover,\" \"alley-oop\" and so on. All this is enabled by NLTK's built in function for Conditional Frequency Distribution. You can read more about it [here](http://www.nltk.org/book/ch02.html#fig-tally2)."
   ]
  },
  {
   "cell_type": "code",
   "execution_count": 55,
   "metadata": {
    "collapsed": false
   },
   "outputs": [],
   "source": [
    "cfd = nltk.ConditionalFreqDist(\n",
    "          (target, fileid[5:])\n",
    "           for fileid in Albums[:14]\n",
    "           for w in wordlist.words(fileid)\n",
    "           for target in basketball_bag_of_words\n",
    "           if w.lower().startswith(target))"
   ]
  },
  {
   "cell_type": "code",
   "execution_count": 59,
   "metadata": {
    "collapsed": true
   },
   "outputs": [],
   "source": [
    "# have inline graphs\n",
    "get_ipython().magic(u'matplotlib inline')"
   ]
  },
  {
   "cell_type": "code",
   "execution_count": 60,
   "metadata": {
    "collapsed": false
   },
   "outputs": [
    {
     "data": {
      "image/png": "[encoded data removed]",
      "text/plain": [
       "<matplotlib.figure.Figure at 0x10fd15310>"
      ]
     },
     "metadata": {},
     "output_type": "display_data"
    }
   ],
   "source": [
    "cfd.plot()"
   ]
  },
  {
   "cell_type": "markdown",
   "metadata": {},
   "source": [
    "From the plot we see that the basketball term \"roll\" seems to be used extensively in the song *Party Life*. Let's take a closer look at this phenomenon, and determine if \"roll\" was used in the \"basketball\" sense of the term. To do this, we need to see the context in which it was used. What we really need is a concordance. Let's build one.\n",
    "\n",
    "The first thing I want to do is to create a corpus that only contain words from the American Gangster album."
   ]
  },
  {
   "cell_type": "code",
   "execution_count": 62,
   "metadata": {
    "collapsed": false
   },
   "outputs": [
    {
     "name": "stdout",
     "output_type": "stream",
     "text": [
      "JayZ_American Gangster_American Dreamin.txt\n",
      "JayZ_American Gangster_American Gangster.txt\n",
      "JayZ_American Gangster_Blue Magic.txt\n",
      "JayZ_American Gangster_Fallin.txt\n",
      "JayZ_American Gangster_Hello Brooklyn 20.txt\n",
      "JayZ_American Gangster_I Know.txt\n",
      "JayZ_American Gangster_Ignorant Shit.txt\n",
      "JayZ_American Gangster_Intro.txt\n",
      "JayZ_American Gangster_No Hook.txt\n",
      "JayZ_American Gangster_Party Life.txt\n",
      "JayZ_American Gangster_Pray.txt\n",
      "JayZ_American Gangster_Say Hello.txt\n",
      "JayZ_American Gangster_Success.txt\n",
      "JayZ_American Gangster_Sweet.txt\n"
     ]
    }
   ],
   "source": [
    "AmericanGangster_wordlist = PlaintextCorpusReader(corpus_root, 'JayZ_American Gangster_.*') \n",
    "AmericanGangster_corpus = create_corpus(AmericanGangster_wordlist, []) "
   ]
  },
  {
   "cell_type": "markdown",
   "metadata": {},
   "source": [
    "Building a concordance, gets us to the area of elementary information retrieval (IR)<a href=\"#fn1\" id=\"ref1\">1</a>, think, <i> basic search engine</i>. So why do we even need to “normalize” terms? We want to match <b>U.S.A.</b> and <b>USA</b>. Also when we enter <b>roll</b>, we would like to match <b>Roll</b>, and <b>rolling</b>. One way to do this is to stem the word. That is, reduce it down to its base/stem/root form. As such <b>automate(s)</b>, <b>automatic</b>, <b>automation</b> all reduced to <b>automat</b>. Most stemmers are pretty basic and just chop off standard affixes indicating things like tense (e.g., \"-ed\") and possessive forms (e.g., \"-'s\"). Here, we'll use the most popular english language stemmer, the Potter stemmer, which comes with NLTK. \n",
    "\n",
    "Once our tokens are stemmed, we can rest easy knowing that roll, Rolling, Rolls will all stem to roll.\n",
    "\n",
    "<sup id=\"fn1\">1. Some of this content has been adapted from Dan Jurafsky's <a href=\"https://web.stanford.edu/class/cs124/\">Stanford CS124 class</a><a href=\"#ref1\" title=\"Jump back to footnote 1 in the text.\"></a></sup>"
   ]
  },
  {
   "cell_type": "code",
   "execution_count": 66,
   "metadata": {
    "collapsed": false
   },
   "outputs": [
    {
     "name": "stdout",
     "output_type": "stream",
     "text": [
      "dummi [1]\n",
      "dump [1]\n",
      "dure [1]\n",
      "each [1]\n",
      "earlob [1]\n",
      "eas [1]\n",
      "easel [1]\n",
      "easi [1]\n",
      "easili [1]\n",
      "eat [5]\n"
     ]
    }
   ],
   "source": [
    "porter = nltk.PorterStemmer()\n",
    "\n",
    "stemmer = nltk.PorterStemmer()\n",
    "stemmed_tokens = [stemmer.stem(t) for t in AmericanGangster_corpus]\n",
    "\n",
    "for token in sorted(set(stemmed_tokens))[860:870]:\n",
    "    print token + ' [' + str(stemmed_tokens.count(token)) + ']'\n"
   ]
  },
  {
   "cell_type": "markdown",
   "metadata": {},
   "source": [
    "    \n",
    "Now we can go ahead and create a concordance to test if \"roll\" is used in the basketball (pick and roll) sense or not."
   ]
  },
  {
   "cell_type": "code",
   "execution_count": 67,
   "metadata": {
    "collapsed": false
   },
   "outputs": [
    {
     "name": "stdout",
     "output_type": "stream",
     "text": [
      " in my veins like a pisces The Pyrex pot rolled up my sleeves Turn one into two l\n",
      "dinner s now turn in to Breakfast I only roll Lexus to Hug your road I love your \n",
      "ut I do lift Weight like I m using roids Rolls Royce Keep my movements smooth whi\n",
      " lefty Gangster effortlessly Poppa was a rolling stone its in my ancestry I m in \n",
      "babe I got a slick mouth you might wanna    roll with me I m on her bra strap she\n",
      "ike CASINO They should pay me for some B roll Takin G strolls through the ghee to\n",
      "n lets keep it smooth This that shit you  roll up like a little tight J to Sip ya\n",
      "her s afro as momma taps her toes as she rolls her jays and my poppa just left th\n"
     ]
    }
   ],
   "source": [
    "AmericanGangster_lyrics = IndexedText(porter, AmericanGangster_corpus)\n",
    "AmericanGangster_lyrics.concordance('roll')"
   ]
  },
  {
   "cell_type": "code",
   "execution_count": 79,
   "metadata": {
    "collapsed": false
   },
   "outputs": [
    {
     "name": "stdout",
     "output_type": "stream",
     "text": [
      "Oh... \r\n",
      "I like the party life... \r\n",
      "Break Out The Red Lights \r\n",
      "The city in bright lights \r\n",
      "Welcome To The Party Life \r\n",
      "These girls dressin' skintight... \r\n",
      "Welcome to the 70's--Sweet! \r\n",
      " \r\n",
      "Ordered some Patreezy \r\n",
      "While talkin' to this breezy \r\n",
      "Brushin' off my three-piece, I make this look too easy \r\n",
      "So tall and lanky, my suit? \r\n",
      "It should thank me \r\n",
      "I make it look good to be this hood, \r\n",
      "Meyer Lansky mixed with lucky lefty \r\n",
      "Gangster, effortlessly \r\n",
      "Poppa was a rolling stone-its in my ancestry \r\n",
      "I'm in a whole 'nother league, niggas never catch me \r\n",
      "And I sport fly shit, I should win the ESPY \r\n",
      " \r\n",
      "(Baby I, I said I sport fly shit, I should win the Espy.... \r\n",
      "I'm really in another league, babe....... \r\n",
      "I got a slick mouth, you might wanna roll with me,) \r\n",
      " \r\n",
      "I'm on her bra strap, she's on my dick \r\n",
      "Ain't nothin' wrong with that, that's my bitch \r\n",
      "I be the boss of that, I'm on her shit \r\n",
      "So all you niggas fall back, I'll split ya wig \r\n",
      "She's my little quarterback ....ya dig? \r\n",
      "Cause I'm all that in the sack ....ya, ya dig? \r\n",
      "I spoiled her \r\n",
      "Foiled it if you fakin', Jack \r\n",
      "She's used to million-dollar vacations \r\n",
      "Fuck you all gonna do with that? \r\n",
      " \r\n",
      "When you're blue \r\n",
      "You got nothin' to do \r\n",
      "(Ay, baby, see,.... \r\n",
      "When you're used to Filet Mignon,) \r\n",
      "Head into the party life \r\n",
      "(Its kinda hard to go back to Hamburger Helper...) \r\n",
      "If you're feelin' low \r\n",
      "We got to go \r\n",
      "(Its your choice though, baby....) \r\n",
      "Get into the party life \r\n",
      " \r\n",
      "Is you rollin' rollin' rollin'? \r\n",
      "(Yeah, baby....) \r\n",
      "Is you headin' to the party life? \r\n",
      "(Is you rollin'? \r\n",
      "You can stall out or ball out....) \r\n",
      "Is you rollin' rollin' rollin'? \r\n",
      "Is you headin' to the party life? \r\n",
      "(Make a choice.... \r\n",
      "Its so gangster, baby....) \r\n",
      "Is you rollin' rollin' rollin'? \r\n",
      " \r\n",
      "Sippin' on my vino \r\n",
      "Got me cooler than Pacino \r\n",
      "When DeNiro put together my real life its like CASINO \r\n",
      "They should pay me for some B-roll \r\n",
      "Takin' G-strolls through the ghee-to \r\n",
      "When rap-p-p-pid fire's just a necessary evil \r\n",
      "Hola Hovito', cooler than zero \r\n",
      "B-low fresh one blade, no chemo \r\n",
      "Art with no easel \r\n",
      "Please, its no equal \r\n",
      "Ya boy's off the wall, these other niggas is Tito \r\n",
      " \r\n",
      "Oh... \r\n",
      "I like the party life \r\n",
      "The city in bright lights \r\n",
      "These girls dressin' skintight... \r\n",
      "(Damn,..... \r\n",
      "Ay baby, I said I'm, I'm Off The Wall, I'm like a... \r\n",
      "young Michael Jackson, these other niggas is Tito.... \r\n",
      "Shout out to Randy, Real Talk!) \r\n",
      " \r\n",
      "When you're blue \r\n",
      "You got nothin' to do \r\n",
      "(I'm gonna just let this ride out...) \r\n",
      "Head into the party life \r\n",
      "(I might let it ride out for like 7 minutes, you can groove to it, whatever) \r\n",
      "If you're feelin' low \r\n",
      "We got to go \r\n",
      "(Lets two-step....aaow!) \r\n",
      "Get into the party life \r\n",
      "(Guru, turn the lights down, lets keep it smooth... \r\n",
      "This that shit you roll up, like a little tight J to... \r\n",
      "Sip ya little wine...) \r\n",
      "Is you rollin' rollin' rollin'? \r\n",
      "Is you headin' to the party life? \r\n",
      "Is you rollin' rollin' rollin'? \r\n",
      "Is you headin' to the party life? \r\n",
      "(whatever your vice is, you know? \r\n",
      "Whatever YOU like to do...get into yo' comfort zone, baby.... \r\n",
      "Get into yo' comfort zone.....uh huh) \r\n",
      " \r\n",
      "When you're blue \r\n",
      "You got nothin' to do \r\n",
      "(Head into the party life.....) \r\n",
      "Head into the party life \r\n",
      "If you're feelin' low \r\n",
      "We got to go \r\n",
      "(I don't even want it to stop, tho, forreal tho...) \r\n",
      "Get into the party life \r\n",
      " \r\n",
      "Step into my bedroom \r\n",
      "I call it the Red room \r\n",
      "C-cause it gets h-h-hot-t-t \r\n",
      "I trust you gonna like it \r\n",
      "See, why are we talkin' all this fly shit? \r\n",
      "C-c-c-c-cause I'm the flyest \r\n",
      "Hovito, baby \r\n",
      "No equal, baby \r\n",
      "So, petite n' gold \r\n",
      "Let the beat go \r\n",
      "Now I'm eatin' gold, baby \r\n",
      "Hovito, baby \r\n",
      "No equal, baby \r\n",
      "So, petite n' gold \r\n",
      "Let the beat go \r\n",
      "Now can we go crazy?.... \r\n",
      "(Ooh!!!......) \r\n",
      " \r\n",
      "When you're blue \r\n",
      "You got nothin' to do \r\n",
      "Head into the party life \r\n",
      "If you're feelin' low \r\n",
      "We got to go \r\n",
      "Get into the party life..... \r\n",
      " \r\n",
      "(Yo...nothin' in the world makes me sadder than to see a lonely girl....)\n"
     ]
    }
   ],
   "source": [
    "print AmericanGangster_wordlist.raw(fileids='JayZ_American Gangster_Party Life.txt')"
   ]
  },
  {
   "cell_type": "markdown",
   "metadata": {},
   "source": [
    "Based on the context, you can decide if the word \"roll\" is used in a basketball sense. This is really where the \"art\" of the word \"Arts and Sciences\" comes to play in Data Science and NLP."
   ]
  }
 ],
 "metadata": {
  "kernelspec": {
   "display_name": "Python 2",
   "language": "python",
   "name": "python2"
  },
  "language_info": {
   "codemirror_mode": {
    "name": "ipython",
    "version": 2
   },
   "file_extension": ".py",
   "mimetype": "text/x-python",
   "name": "python",
   "nbconvert_exporter": "python",
   "pygments_lexer": "ipython2",
   "version": "2.7.10"
  }
 },
 "nbformat": 4,
 "nbformat_minor": 0
}
